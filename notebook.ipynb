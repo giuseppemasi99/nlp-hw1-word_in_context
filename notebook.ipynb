{
  "nbformat": 4,
  "nbformat_minor": 0,
  "metadata": {
    "colab": {
      "name": "NLP HW1.ipynb",
      "provenance": [],
      "collapsed_sections": [],
      "toc_visible": true
    },
    "kernelspec": {
      "name": "python3",
      "display_name": "Python 3"
    },
    "language_info": {
      "name": "python"
    },
    "accelerator": "GPU"
  },
  "cells": [
    {
      "cell_type": "markdown",
      "metadata": {
        "id": "xvQXdTTILyD7"
      },
      "source": [
        "# Setting the environment"
      ]
    },
    {
      "cell_type": "code",
      "metadata": {
        "id": "4lAaRfMQp87s",
        "colab": {
          "base_uri": "https://localhost:8080/"
        },
        "outputId": "880e69f8-461c-4a1c-9af2-ccd921b550e7"
      },
      "source": [
        "from google.colab import drive\n",
        "drive.mount('/content/drive')"
      ],
      "execution_count": null,
      "outputs": [
        {
          "output_type": "stream",
          "text": [
            "Mounted at /content/drive\n"
          ],
          "name": "stdout"
        }
      ]
    },
    {
      "cell_type": "markdown",
      "metadata": {
        "id": "7mzAcwncSx2Q"
      },
      "source": [
        "## Downloading Glove and Train/Dev data\n"
      ]
    },
    {
      "cell_type": "code",
      "metadata": {
        "colab": {
          "base_uri": "https://localhost:8080/"
        },
        "id": "XzrMLll3OXpc",
        "outputId": "bce81d63-014e-45fb-b88c-9191b12149e2"
      },
      "source": [
        "!wget http://nlp.stanford.edu/data/glove.6B.zip\n",
        "!unzip glove.6B.zip\n",
        "!rm glove.6B.50d.txt\n",
        "!rm glove.6B.100d.txt\n",
        "!rm glove.6B.200d.txt\n",
        "!rm glove.6B.zip"
      ],
      "execution_count": null,
      "outputs": [
        {
          "output_type": "stream",
          "text": [
            "--2021-05-01 07:20:46--  http://nlp.stanford.edu/data/glove.6B.zip\n",
            "Resolving nlp.stanford.edu (nlp.stanford.edu)... 171.64.67.140\n",
            "Connecting to nlp.stanford.edu (nlp.stanford.edu)|171.64.67.140|:80... connected.\n",
            "HTTP request sent, awaiting response... 302 Found\n",
            "Location: https://nlp.stanford.edu/data/glove.6B.zip [following]\n",
            "--2021-05-01 07:20:46--  https://nlp.stanford.edu/data/glove.6B.zip\n",
            "Connecting to nlp.stanford.edu (nlp.stanford.edu)|171.64.67.140|:443... connected.\n",
            "HTTP request sent, awaiting response... 301 Moved Permanently\n",
            "Location: http://downloads.cs.stanford.edu/nlp/data/glove.6B.zip [following]\n",
            "--2021-05-01 07:20:46--  http://downloads.cs.stanford.edu/nlp/data/glove.6B.zip\n",
            "Resolving downloads.cs.stanford.edu (downloads.cs.stanford.edu)... 171.64.64.22\n",
            "Connecting to downloads.cs.stanford.edu (downloads.cs.stanford.edu)|171.64.64.22|:80... connected.\n",
            "HTTP request sent, awaiting response... 200 OK\n",
            "Length: 862182613 (822M) [application/zip]\n",
            "Saving to: ‘glove.6B.zip’\n",
            "\n",
            "glove.6B.zip        100%[===================>] 822.24M  5.10MB/s    in 2m 40s  \n",
            "\n",
            "2021-05-01 07:23:26 (5.14 MB/s) - ‘glove.6B.zip’ saved [862182613/862182613]\n",
            "\n",
            "Archive:  glove.6B.zip\n",
            "  inflating: glove.6B.50d.txt        \n",
            "  inflating: glove.6B.100d.txt       \n",
            "  inflating: glove.6B.200d.txt       \n",
            "  inflating: glove.6B.300d.txt       \n"
          ],
          "name": "stdout"
        }
      ]
    },
    {
      "cell_type": "code",
      "metadata": {
        "colab": {
          "base_uri": "https://localhost:8080/"
        },
        "id": "8nyOJBlPkMrl",
        "outputId": "74127f18-cdfb-441c-87cf-9e5731208728"
      },
      "source": [
        "!git clone https://github.com/SapienzaNLP/nlp2021-hw1\n",
        "!cp nlp2021-hw1/data/train.jsonl ./\n",
        "!cp nlp2021-hw1/data/dev.jsonl ./"
      ],
      "execution_count": null,
      "outputs": [
        {
          "output_type": "stream",
          "text": [
            "Cloning into 'nlp2021-hw1'...\n",
            "remote: Enumerating objects: 40, done.\u001b[K\n",
            "remote: Counting objects: 100% (40/40), done.\u001b[K\n",
            "remote: Compressing objects: 100% (36/36), done.\u001b[K\n",
            "remote: Total 40 (delta 11), reused 18 (delta 0), pack-reused 0\u001b[K\n",
            "Unpacking objects: 100% (40/40), done.\n"
          ],
          "name": "stdout"
        }
      ]
    },
    {
      "cell_type": "code",
      "metadata": {
        "colab": {
          "base_uri": "https://localhost:8080/"
        },
        "id": "hSwxqO73NEIl",
        "outputId": "e98b692c-5781-4115-bd17-4f37a3414361"
      },
      "source": [
        "!ls\n",
        "\n",
        "glove_embeddings = \"glove.6B.300d.txt\"\n",
        "\n",
        "train_file = \"train.jsonl\"\n",
        "dev_file = \"dev.jsonl\"\n",
        "\n",
        "ROOT_FOLDER = 'drive/MyDrive/models/'"
      ],
      "execution_count": null,
      "outputs": [
        {
          "output_type": "stream",
          "text": [
            "dev.jsonl  drive  glove.6B.300d.txt  nlp2021-hw1  sample_data  train.jsonl\n"
          ],
          "name": "stdout"
        }
      ]
    },
    {
      "cell_type": "code",
      "metadata": {
        "colab": {
          "base_uri": "https://localhost:8080/"
        },
        "id": "CC3Fu-h7xXyV",
        "outputId": "e6e1238a-b750-48be-d39d-9317944e33c5"
      },
      "source": [
        "! head -5 {train_file}"
      ],
      "execution_count": null,
      "outputs": [
        {
          "output_type": "stream",
          "text": [
            "{\"id\": \"train.0\", \"lemma\": \"play\", \"pos\": \"NOUN\", \"sentence1\": \"In that context of coordination and integration, Bolivia holds a key play in any process of infrastructure development.\", \"sentence2\": \"A musical play on the same subject was also staged in Kathmandu for three days.\", \"start1\": \"69\", \"end1\": \"73\", \"start2\": \"10\", \"end2\": \"14\", \"label\": \"False\"}\n",
            "{\"id\": \"train.1\", \"lemma\": \"play\", \"pos\": \"NOUN\", \"sentence1\": \"In that context of coordination and integration, Bolivia holds a key play in any process of infrastructure development.\", \"sentence2\": \"In schools, when water is needed, it is girls who are sent to fetch it, taking time away from their studies and play.\", \"start1\": \"69\", \"end1\": \"73\", \"start2\": \"112\", \"end2\": \"116\", \"label\": \"False\"}\n",
            "{\"id\": \"train.2\", \"lemma\": \"esteem\", \"pos\": \"NOUN\", \"sentence1\": \"We would also like to convey our esteem and congratulations to fraternal Lebanon and its people on the unconditional liberation of its southern part.\", \"sentence2\": \"Father Lini said that, because of that, the United Nations has a very special place in the affections and esteem of the people of Vanuatu.\", \"start1\": \"33\", \"end1\": \"39\", \"start2\": \"106\", \"end2\": \"112\", \"label\": \"True\"}\n",
            "{\"id\": \"train.3\", \"lemma\": \"esteem\", \"pos\": \"NOUN\", \"sentence1\": \"We would also like to convey our esteem and congratulations to fraternal Lebanon and its people on the unconditional liberation of its southern part.\", \"sentence2\": \"This attests to the esteem and trust enjoyed by your country.\", \"start1\": \"33\", \"end1\": \"39\", \"start2\": \"20\", \"end2\": \"26\", \"label\": \"True\"}\n",
            "{\"id\": \"train.4\", \"lemma\": \"holder\", \"pos\": \"NOUN\", \"sentence1\": \"This growth is the direct result of the increased number of baccalaureate holders, who form the potential market for higher education.\", \"sentence2\": \"A person may be either the holder of an option, being the person entitled to buy or sell; or the writer of the option, being the person required to honour the holder’s right to buy or sell.\", \"start1\": \"74\", \"end1\": \"81\", \"start2\": \"27\", \"end2\": \"33\", \"label\": \"True\"}\n"
          ],
          "name": "stdout"
        }
      ]
    },
    {
      "cell_type": "markdown",
      "metadata": {
        "id": "5v1BC-sgS2D0"
      },
      "source": [
        "## Importing libraries"
      ]
    },
    {
      "cell_type": "code",
      "metadata": {
        "colab": {
          "base_uri": "https://localhost:8080/"
        },
        "id": "QYZ2b7lGerOG",
        "outputId": "995ae9aa-9e95-4083-8f2e-abbad36cabe1"
      },
      "source": [
        "from torch import FloatTensor as FT\n",
        "from torch import LongTensor as LT\n",
        "import matplotlib.pyplot as plt\n",
        "import torch.nn as nn\n",
        "from collections import Counter, defaultdict\n",
        "import numpy as np\n",
        "import torch\n",
        "import json\n",
        "import os\n",
        "import re\n",
        "from typing import *\n",
        "import math\n",
        "import random\n",
        "import pickle\n",
        "\n",
        "from tqdm import tqdm\n",
        "\n",
        "import nltk\n",
        "nltk.download('stopwords')\n",
        "from nltk.corpus import stopwords\n",
        "\n",
        "import string"
      ],
      "execution_count": null,
      "outputs": [
        {
          "output_type": "stream",
          "text": [
            "[nltk_data] Downloading package stopwords to /root/nltk_data...\n",
            "[nltk_data]   Unzipping corpora/stopwords.zip.\n"
          ],
          "name": "stdout"
        }
      ]
    },
    {
      "cell_type": "code",
      "metadata": {
        "id": "H33HHNVYS1KW"
      },
      "source": [
        "SEED = 1111\n",
        "\n",
        "random.seed(SEED)\n",
        "np.random.seed(SEED)\n",
        "torch.manual_seed(SEED)\n",
        "torch.backends.cudnn.deterministic = True"
      ],
      "execution_count": null,
      "outputs": []
    },
    {
      "cell_type": "code",
      "metadata": {
        "id": "yqP9cWOTgNJb",
        "colab": {
          "base_uri": "https://localhost:8080/",
          "height": 35
        },
        "outputId": "90f5697a-2beb-4bab-a9aa-45c9521de67d"
      },
      "source": [
        "device = 'cuda' if torch.cuda.is_available() else 'cpu'\n",
        "torch.cuda.empty_cache()\n",
        "device"
      ],
      "execution_count": null,
      "outputs": [
        {
          "output_type": "execute_result",
          "data": {
            "application/vnd.google.colaboratory.intrinsic+json": {
              "type": "string"
            },
            "text/plain": [
              "'cuda'"
            ]
          },
          "metadata": {
            "tags": []
          },
          "execution_count": 7
        }
      ]
    },
    {
      "cell_type": "markdown",
      "metadata": {
        "id": "1735HnDAL1nJ"
      },
      "source": [
        "# GloVe"
      ]
    },
    {
      "cell_type": "markdown",
      "metadata": {
        "id": "754d4kXnuMje"
      },
      "source": [
        "We are opening the GloVe embeddings file to load the vector representation of each word."
      ]
    },
    {
      "cell_type": "code",
      "metadata": {
        "id": "fcb3U01Ietle",
        "colab": {
          "base_uri": "https://localhost:8080/"
        },
        "outputId": "6ebf05f8-ae4c-4475-e016-174e11fc05a3"
      },
      "source": [
        "lines = []\n",
        "with open(glove_embeddings) as f:\n",
        "  lines = f.readlines()\n",
        "\n",
        "word2vec = {}\n",
        "\n",
        "word2vec['UNK_TOKEN'] = torch.rand(300, device=device)\n",
        "\n",
        "for id, line in enumerate(tqdm(lines, position=0, leave=True)):\n",
        "  line_splitted = line.split(' ')\n",
        "  word = line_splitted[0]\n",
        "  word_embedding = torch.tensor([float(x) for x in line_splitted[1:]], \n",
        "                                dtype=torch.float32, \n",
        "                                device=device)\n",
        "  word2vec[word] = word_embedding"
      ],
      "execution_count": null,
      "outputs": [
        {
          "output_type": "stream",
          "text": [
            "100%|██████████| 400000/400000 [00:39<00:00, 10178.82it/s]\n"
          ],
          "name": "stderr"
        }
      ]
    },
    {
      "cell_type": "markdown",
      "metadata": {
        "id": "NzHHIuoGuUoe"
      },
      "source": [
        "We are defining a function to save the vocabulary that allow us to export it."
      ]
    },
    {
      "cell_type": "code",
      "metadata": {
        "id": "_R7zN1hi6LSs"
      },
      "source": [
        "def save_vocabulary(path: str, name: str):\n",
        "    with open(path + name + '.pkl', 'wb') as f:\n",
        "        pickle.dump(word2vec, f, pickle.HIGHEST_PROTOCOL)"
      ],
      "execution_count": null,
      "outputs": []
    },
    {
      "cell_type": "code",
      "metadata": {
        "id": "OeWz-lU86j4N"
      },
      "source": [
        "save_vocabulary(ROOT_FOLDER, 'GloVe-300d')"
      ],
      "execution_count": null,
      "outputs": []
    },
    {
      "cell_type": "markdown",
      "metadata": {
        "id": "ijKQpR-4uqCn"
      },
      "source": [
        "The following function compute the number of words, unique words, and missing words w.r.t. GloVe embedding both of training set and development set."
      ]
    },
    {
      "cell_type": "code",
      "metadata": {
        "id": "7caEiUeHfcdW"
      },
      "source": [
        "def count_words_dataset(dataset_name: str) -> Tuple[int, int, int]:\n",
        "    n_words, unique_words, n_missing_words = 0, [], 0\n",
        "    with open(dataset_name) as f:\n",
        "        json_list = list(f)\n",
        "        for json_str in json_list:\n",
        "            line = json.loads(json_str)\n",
        "            sentences = line['sentence1'] + ' ' + line['sentence2']\n",
        "            for w in sentences.split(' '):\n",
        "                n_words += 1\n",
        "                if w not in unique_words:\n",
        "                    unique_words.append(w)\n",
        "                if w not in word2vec:\n",
        "                    n_missing_words += 1\n",
        "    return n_words, len(unique_words), n_missing_words"
      ],
      "execution_count": null,
      "outputs": []
    },
    {
      "cell_type": "code",
      "metadata": {
        "colab": {
          "base_uri": "https://localhost:8080/"
        },
        "id": "0qNgtShfiTh0",
        "outputId": "2a9b0152-a914-44d3-9223-64ef6ebab37b"
      },
      "source": [
        "n_words_train, n_unique_words_train, n_missing_words_train = count_words_dataset(train_file)\n",
        "n_words_dev, n_unique_words_dev, n_missing_words_dev = count_words_dataset(dev_file)\n",
        "\n",
        "print(\"Train\")\n",
        "print(\"# words : \", n_words_train)\n",
        "print(\"# unique words\", n_unique_words_train)\n",
        "print(\"# missing words\", n_missing_words_train)\n",
        "print(\"missing_words / words\", round(n_missing_words_train/n_words_train, 3))\n",
        "print(\"-\"*30)\n",
        "print(\"Dev\")\n",
        "print(\"# words : \", n_words_dev)\n",
        "print(\"# unique words\", n_unique_words_dev)\n",
        "print(\"# missing words\", n_missing_words_dev)\n",
        "print(\"missing_words / words\", round(n_missing_words_dev/n_words_dev, 3))"
      ],
      "execution_count": null,
      "outputs": [
        {
          "output_type": "stream",
          "text": [
            "Train\n",
            "# words :  385413\n",
            "# unique words 43068\n",
            "# missing words 72771\n",
            "missing_words / words 0.189\n",
            "------------------------------\n",
            "Dev\n",
            "# words :  45595\n",
            "# unique words 10476\n",
            "# missing words 8770\n",
            "missing_words / words 0.192\n"
          ],
          "name": "stdout"
        }
      ]
    },
    {
      "cell_type": "markdown",
      "metadata": {
        "id": "chlolKMuMKLx"
      },
      "source": [
        "# Pre-Processing"
      ]
    },
    {
      "cell_type": "markdown",
      "metadata": {
        "id": "bEoSZ95VutbM"
      },
      "source": [
        "In this section we are performing the pre-processing step for the sentences. "
      ]
    },
    {
      "cell_type": "code",
      "metadata": {
        "id": "2LjDLjuFIbur"
      },
      "source": [
        "# random string used for highlight the target word and perform pre-processing without care \n",
        "# about the change position of the target word \n",
        "TARGET_HIGHLIGHTER = 'iardyzywdgjglbwpvmwp'\n",
        "\n",
        "# adding the highlighter befor the target word\n",
        "def add_highlighter_target_word(sentence: str, start_target_word: int):\n",
        "    return sentence[:start_target_word] + TARGET_HIGHLIGHTER + sentence[start_target_word:]\n",
        "\n",
        "# removing the highlighter \n",
        "def remove_highlighter_target_word(sentence: str):\n",
        "    return sentence.replace(TARGET_HIGHLIGHTER, '')\n",
        "\n",
        "# removing punctuation and multiple spaces\n",
        "def remove_punctuation(sentence: str):\n",
        "    \n",
        "    sentence = sentence.replace(chr(8221), ' ') # ”\n",
        "    sentence = sentence.replace(chr(8220), ' ') # “\n",
        "    sentence = sentence.replace(chr(8212), ' ') # —\n",
        "    sentence = sentence.replace(chr(8211), ' ') # –\n",
        "    sentence = sentence.replace(chr(8208), ' ') # ‐\n",
        "    \n",
        "    sentence = sentence.replace(chr(8216), '') # ‘\n",
        "    sentence = sentence.replace(chr(8217), '') # ’\n",
        "    sentence = sentence.replace(chr(39), '') # '\n",
        "\n",
        "    for punc in string.punctuation:\n",
        "        sentence = sentence.replace(punc, ' ')\n",
        "\n",
        "    sentence = re.sub(' +', ' ', sentence)\n",
        "\n",
        "    return sentence\n",
        "\n",
        "# removing stopwords\n",
        "def remove_stopwords(sentence: str):\n",
        "    sentence_without_stopwords = ''\n",
        "    stopWords = set(stopwords.words('english'))\n",
        "    for word in sentence.split(' '):\n",
        "        if word not in stopWords:\n",
        "            sentence_without_stopwords += (word + ' ')\n",
        "    return sentence_without_stopwords.strip()\n",
        "\n",
        "# retriving the position of the target word after the preprocessing based on the highlighter\n",
        "def get_index_target_word(sentence: str):\n",
        "    i = 1\n",
        "    for word in sentence.split(' '):\n",
        "        if word.startswith(TARGET_HIGHLIGHTER):\n",
        "            return i\n",
        "        else:\n",
        "            i += 1\n",
        "\n",
        "# pre-processing the sentence returning the clean sentence,\n",
        "# the number of words in the sentence, \n",
        "# and the position of the target word\n",
        "def preprocess_sentence(sentence: str, start_target_word: int):\n",
        "    sentence = add_highlighter_target_word(sentence, start_target_word)\n",
        "    sentence = sentence.strip()\n",
        "    sentence = sentence.lower()\n",
        "    sentence = remove_punctuation(sentence)\n",
        "    sentence = remove_stopwords(sentence)\n",
        "    index_target_word = get_index_target_word(sentence)\n",
        "    sentence = remove_highlighter_target_word(sentence)\n",
        "    n_words = sentence.count(' ')+1\n",
        "    return sentence, n_words, index_target_word\n"
      ],
      "execution_count": null,
      "outputs": []
    },
    {
      "cell_type": "code",
      "metadata": {
        "colab": {
          "base_uri": "https://localhost:8080/"
        },
        "id": "K-Va8x-INvKF",
        "outputId": "892a0c94-c69c-43a2-cd5f-b5d330d0c9cc"
      },
      "source": [
        "s = 'Poodles in Europe tend not to dock the tail of the breed at puppyhood, whereas in North America this is a matter left to the discretion of the owner.'\n",
        "start = 30\n",
        "\n",
        "s_p, n_words, target = preprocess_sentence(s, start)\n",
        "\n",
        "print(s_p, '\\n', '#words: ' + str(n_words), '\\n', 'target: ' + str(target))"
      ],
      "execution_count": null,
      "outputs": [
        {
          "output_type": "stream",
          "text": [
            "poodles europe tend dock tail breed puppyhood whereas north america matter left discretion owner \n",
            " #words: 14 \n",
            " target: 4\n"
          ],
          "name": "stdout"
        }
      ]
    },
    {
      "cell_type": "markdown",
      "metadata": {
        "id": "WFGTJd1KMPQB"
      },
      "source": [
        "# First Approach"
      ]
    },
    {
      "cell_type": "markdown",
      "metadata": {
        "id": "vvdUiC6Iv5rP"
      },
      "source": [
        "In this section we are defining the first approach models."
      ]
    },
    {
      "cell_type": "markdown",
      "metadata": {
        "id": "D5APFXwCMwM3"
      },
      "source": [
        "## sentence2vec"
      ]
    },
    {
      "cell_type": "markdown",
      "metadata": {
        "id": "S3J8Q1E6v9Jf"
      },
      "source": [
        "This section implements the aggregation function used for combine the word embeddings of the sentences."
      ]
    },
    {
      "cell_type": "markdown",
      "metadata": {
        "id": "zDKNF5LvM1LR"
      },
      "source": [
        "### Mean"
      ]
    },
    {
      "cell_type": "markdown",
      "metadata": {
        "id": "jzxOpepGwVQN"
      },
      "source": [
        "The following functions implements the mean aggregation function."
      ]
    },
    {
      "cell_type": "code",
      "metadata": {
        "id": "ur003ut60f_L"
      },
      "source": [
        "def sentence2meanvec(sentence: str, target: int) -> Optional[torch.Tensor]:\n",
        "\n",
        "    # mising words are just ignored\n",
        "    sentence_word_vector = [word2vec[w] for w in sentence.split(' ') if w in word2vec]\n",
        "\n",
        "    # stacking the tensors representing each word\n",
        "    sentence_word_vector = torch.stack(sentence_word_vector)\n",
        "\n",
        "    # returning the mean component by component of the stacked tensors\n",
        "    return torch.mean(sentence_word_vector, dim=0)"
      ],
      "execution_count": null,
      "outputs": []
    },
    {
      "cell_type": "code",
      "metadata": {
        "id": "t6LSPRU5ZK6B"
      },
      "source": [
        "def sentence2meanvec_unk(sentence: str, target: int) -> Optional[torch.Tensor]:\n",
        "\n",
        "    # missing words are represented by a random (fixed) vector\n",
        "    sentence_word_vector = [word2vec[w] if w in word2vec else word2vec['UNK_TOKEN'] for w in sentence.split(' ')]\n",
        "\n",
        "    sentence_word_vector = torch.stack(sentence_word_vector)\n",
        "\n",
        "    return torch.mean(sentence_word_vector, dim=0)"
      ],
      "execution_count": null,
      "outputs": []
    },
    {
      "cell_type": "markdown",
      "metadata": {
        "id": "Nj03U0BVM4da"
      },
      "source": [
        "### Sum"
      ]
    },
    {
      "cell_type": "markdown",
      "metadata": {
        "id": "Nl-M9jQ_wiSI"
      },
      "source": [
        "The following functions implements the sum aggregation function."
      ]
    },
    {
      "cell_type": "code",
      "metadata": {
        "id": "FygfCuz-inYF"
      },
      "source": [
        "def sentence2sumvec(sentence: str, target: int) -> Optional[torch.Tensor]:\n",
        "\n",
        "    # mising words are just ignored\n",
        "    sentence_word_vector = [word2vec[w] for w in sentence.split(' ') if w in word2vec]\n",
        "\n",
        "    sentence_word_vector = torch.stack(sentence_word_vector)\n",
        "\n",
        "    return torch.sum(sentence_word_vector, dim=0)"
      ],
      "execution_count": null,
      "outputs": []
    },
    {
      "cell_type": "markdown",
      "metadata": {
        "id": "WqAdHfSmM58l"
      },
      "source": [
        "### Weighted mean"
      ]
    },
    {
      "cell_type": "markdown",
      "metadata": {
        "id": "QMJ7pnlrwm0X"
      },
      "source": [
        "The following function takes in input the length of a sentence and the position of the target word and returns a list of coefficients to be multiplied to each word. The idea behind this function is to follow an exponential distribution to give more importance to words closer to the target word, and less importance to words far from the target word. "
      ]
    },
    {
      "cell_type": "code",
      "metadata": {
        "id": "CKu464UDLGgV"
      },
      "source": [
        "def get_coefficients(len: int, target: int):\n",
        "\n",
        "    max_, min_ = max(target, len-target), min(target, len-target)\n",
        "    \n",
        "    e = 2\n",
        "\n",
        "    if target >= len-target:\n",
        "        a = [e**i for i in range(max_)]\n",
        "        b = a[-min_-1:-1]\n",
        "        b.reverse()\n",
        "    else:\n",
        "        b = [e**i for i in range(max_+1)]\n",
        "        b.reverse()\n",
        "        a = b[1:min_]\n",
        "        a.reverse()\n",
        "    \n",
        "    coefficients = a+b\n",
        "\n",
        "    coefficients = torch.tensor(coefficients, device=device).float()\n",
        "\n",
        "    # the coefficients are normalized to sum up to 1\n",
        "    coefficients = coefficients/torch.sum(coefficients)\n",
        "\n",
        "    return coefficients"
      ],
      "execution_count": null,
      "outputs": []
    },
    {
      "cell_type": "code",
      "metadata": {
        "colab": {
          "base_uri": "https://localhost:8080/"
        },
        "id": "2ytoY2WhLnOC",
        "outputId": "afece41d-0189-4a6a-ceb7-26289525410a"
      },
      "source": [
        "coefficients = get_coefficients(n_words, target)\n",
        "coefficients"
      ],
      "execution_count": null,
      "outputs": [
        {
          "output_type": "execute_result",
          "data": {
            "text/plain": [
              "tensor([4.3493e-02, 8.6986e-02, 1.7397e-01, 3.4794e-01, 1.7397e-01, 8.6986e-02,\n",
              "        4.3493e-02, 2.1747e-02, 1.0873e-02, 5.4366e-03, 2.7183e-03, 1.3592e-03,\n",
              "        6.7958e-04, 3.3979e-04], device='cuda:0')"
            ]
          },
          "metadata": {
            "tags": []
          },
          "execution_count": 30
        }
      ]
    },
    {
      "cell_type": "markdown",
      "metadata": {
        "id": "D99rmWlGxfMI"
      },
      "source": [
        "The following functions implements the weighted sum aggregation function."
      ]
    },
    {
      "cell_type": "code",
      "metadata": {
        "id": "-31f-8NrNol6"
      },
      "source": [
        "def sentence2weightedmeanvec(sentence: str, target: int) -> Optional[torch.Tensor]:\n",
        "\n",
        "    # mising words are just ignored\n",
        "    sentence_word_vector = [word2vec[w] for w in sentence.split(' ') if w in word2vec]\n",
        "    \n",
        "    n_words = len(sentence_word_vector)\n",
        "\n",
        "    coefficients = get_coefficients(n_words, target)\n",
        "    \n",
        "    sentence_word_vector = torch.stack(sentence_word_vector)\n",
        "\n",
        "    weighted = torch.stack([sentence_word_vector[i]*coefficients[i] for i in range(n_words-1)])\n",
        "\n",
        "    return torch.mean(weighted, dim=0)"
      ],
      "execution_count": null,
      "outputs": []
    },
    {
      "cell_type": "markdown",
      "metadata": {
        "id": "0Y8GNu3YM_9W"
      },
      "source": [
        "## Dataset"
      ]
    },
    {
      "cell_type": "markdown",
      "metadata": {
        "id": "nJK65oSGxpZO"
      },
      "source": [
        "We are defining the dataset. As soon as the sentences are read from the datasate, they are pre-processed and trasformed in their hidden representation. So, each instance of the following dataset is composed by the concatenation of the hidden representation of the two sentences and the corresponding ground truth."
      ]
    },
    {
      "cell_type": "code",
      "metadata": {
        "id": "jqee621I0z5y"
      },
      "source": [
        "class PairsSentencesDataset(torch.utils.data.Dataset):\n",
        "\n",
        "    def __init__(self, dataset_path: str, sentence2vec, min_length: int):\n",
        "        self.data = []\n",
        "        self.device = device\n",
        "        \n",
        "        self.__init_structures(dataset_path, sentence2vec, min_length)\n",
        "\n",
        "    def __init_structures(self, dataset_path: str, sentence2vec, min_length: int) -> None:\n",
        "        \n",
        "        with open(dataset_path) as f:\n",
        "        \n",
        "            json_list = list(f)\n",
        "        \n",
        "            for json_str in json_list:\n",
        "        \n",
        "                line = json.loads(json_str)\n",
        "\n",
        "                # retriving information from the provided dataset        \n",
        "                label = np.float32(0 if line['label'] == 'False' else 1)\n",
        "                sentence1 = line['sentence1']\n",
        "                sentence2 = line['sentence2']\n",
        "                start1, end1 = int(line['start1']), int(line['end1'])\n",
        "                start2, end2 = int(line['start2']), int(line['end2'])\n",
        "\n",
        "                # pre-processing the two sentences\n",
        "                sentence1, n_words1, index_target_word1 = preprocess_sentence(sentence1, start1)\n",
        "                sentence2, n_words2, index_target_word2 = preprocess_sentence(sentence2, start2)\n",
        "\n",
        "                # if some problem occurs during the identification of the target word, I ignore that instance\n",
        "                if index_target_word1 == None or index_target_word2 == None:\n",
        "                    continue\n",
        "                if index_target_word1 > n_words1 or index_target_word2 > n_words2:\n",
        "                    continue\n",
        "                \n",
        "                # if one of the pre-processed sentences contains few words, I ignore that instance\n",
        "                if n_words1 < min_length or n_words2 < min_length:\n",
        "                    continue\n",
        "\n",
        "                # computing the hidden representation of the sentences\n",
        "                sentence_vector1 = sentence2vec(sentence1, index_target_word1)\n",
        "                sentence_vector2 = sentence2vec(sentence2, index_target_word2)\n",
        "\n",
        "                # concatenating the hidden representation of the two sentences\n",
        "                sentences_vector = torch.cat([sentence_vector1, sentence_vector2], dim=0)\n",
        "\n",
        "                label = torch.tensor(label, device=device)\n",
        "\n",
        "                self.data.append((sentences_vector, label))\n",
        "\n",
        "    def __len__(self) -> int:\n",
        "        return len(self.data)\n",
        "\n",
        "    def __getitem__(self, idx: int) -> torch.Tensor:\n",
        "        return self.data[idx]"
      ],
      "execution_count": null,
      "outputs": []
    },
    {
      "cell_type": "markdown",
      "metadata": {
        "id": "Shhn69mYND-t"
      },
      "source": [
        "## Classifier"
      ]
    },
    {
      "cell_type": "markdown",
      "metadata": {
        "id": "hJ14VErdzW3V"
      },
      "source": [
        "We are defining the classifier."
      ]
    },
    {
      "cell_type": "code",
      "metadata": {
        "id": "q9z4BVtx1-t8"
      },
      "source": [
        "class PairsSentenceClassifier(torch.nn.Module):\n",
        "\n",
        "    # defining the model architecture\n",
        "    def __init__(self, n_features: int, dropout: float):\n",
        "        super().__init__()\n",
        "\n",
        "        # linear layer\n",
        "        self.lin1 = torch.nn.Linear(n_features, n_features//2)\n",
        "        self.lin2 = torch.nn.Linear(n_features//2, 1)\n",
        "        \n",
        "        # dropout layer\n",
        "        self.dropout = torch.nn.Dropout(p=dropout)\n",
        "\n",
        "        # loss function\n",
        "        self.loss_fn = torch.nn.BCELoss()\n",
        "\n",
        "\n",
        "    # defining the forward pass of the model\n",
        "    def forward(self, X: torch.Tensor, y: Optional[torch.Tensor] = None) -> Dict[str, torch.Tensor]:\n",
        "        \n",
        "        # forward 1st layer\n",
        "        out = self.lin1(X)\n",
        "        out = torch.relu(out)\n",
        "\n",
        "        #dropout regularization\n",
        "        out = self.dropout(out)\n",
        "        \n",
        "        # forward 2nd layer\n",
        "        out = self.lin2(out)\n",
        "        \n",
        "        out = out.squeeze(1)\n",
        "        out = torch.sigmoid(out)\n",
        "        \n",
        "        # storing result\n",
        "        result = {'pred': out}\n",
        "\n",
        "        # computing and storing loss\n",
        "        if y is not None:\n",
        "          loss = self.loss(out, y)\n",
        "          result['loss'] = loss \n",
        "\n",
        "        # returning result\n",
        "        return result\n",
        "\n",
        "    def loss(self, pred, y):\n",
        "        return self.loss_fn(pred, y)"
      ],
      "execution_count": null,
      "outputs": []
    },
    {
      "cell_type": "markdown",
      "metadata": {
        "id": "JmxhZhs7NPe3"
      },
      "source": [
        "## Training"
      ]
    },
    {
      "cell_type": "markdown",
      "metadata": {
        "id": "Q4Wh3YUMz3zN"
      },
      "source": [
        "We are defining the training loop to train the model. It returns a list containing the accuracies of the model tested on the dev dataset for each epoch."
      ]
    },
    {
      "cell_type": "code",
      "metadata": {
        "id": "tBhlOCsn4RI8"
      },
      "source": [
        "def training_loop(model: nn.Module, \n",
        "                  optimizer: torch.optim.Optimizer,\n",
        "                  epochs: int = 50,\n",
        "                  save: bool = False,\n",
        "                  _print: bool = False) -> List[float]:\n",
        "    \n",
        "    # accuracies list\n",
        "    accuracies = []\n",
        "\n",
        "    for epoch in range(epochs):\n",
        "\n",
        "        # for each batch of the training set\n",
        "        for X, y in train_dataloader:\n",
        "            \n",
        "            # set the gradients to zero before starting backpropragation step\n",
        "            optimizer.zero_grad()\n",
        "\n",
        "            # compute the output of the model\n",
        "            batch_out = model(X, y)\n",
        "\n",
        "            # retrieve the loss \n",
        "            loss = batch_out['loss']\n",
        "\n",
        "            # compute the gradient of the loss\n",
        "            loss.backward()\n",
        "\n",
        "            # update parameters of the model\n",
        "            optimizer.step()\n",
        "\n",
        "        # if _print is set to True, it prints the current loss\n",
        "        if _print:\n",
        "            print(epoch, loss.item())\n",
        "\n",
        "        # testing the model\n",
        "        accuracy = test(model, _print)\n",
        "\n",
        "        accuracies.append(accuracy)\n",
        "\n",
        "        # if save is set to True, it saves the current model\n",
        "        if save:\n",
        "            torch.save({\n",
        "                    'model_state_dict': model.state_dict(),\n",
        "                    'optimizer_state_dict': optimizer.state_dict(),\n",
        "                    }, ROOT_FOLDER + 'first/1_'+str(epoch)+'.pt')\n",
        "\n",
        "    # returning the accuracies\n",
        "    return accuracies"
      ],
      "execution_count": null,
      "outputs": []
    },
    {
      "cell_type": "markdown",
      "metadata": {
        "id": "2BY17aGZNRC5"
      },
      "source": [
        "## Test"
      ]
    },
    {
      "cell_type": "markdown",
      "metadata": {
        "id": "I3irutjG0u4_"
      },
      "source": [
        "We are defining the test function to evaluate the model on the dev dataset."
      ]
    },
    {
      "cell_type": "code",
      "metadata": {
        "id": "2wim4PiE4ra9"
      },
      "source": [
        "def test(model: nn.Module, _print: bool = False):    \n",
        "    \n",
        "    n = 0\n",
        "    d = 0\n",
        "\n",
        "    # for each batch of the test set\n",
        "    for X, y in dev_dataloader:\n",
        "\n",
        "        # set the gradients to zero before starting backpropragation step\n",
        "        with torch.no_grad():\n",
        "\n",
        "            # predict the batch\n",
        "            batch_out = model(X)\n",
        "\n",
        "            # retrieve the predictions\n",
        "            pred = batch_out['pred']\n",
        "\n",
        "        # round the sigmoid output to obtain 0/1 values\n",
        "        pred = torch.round(pred)\n",
        "        \n",
        "        # how many predictions, i.e. number of batch items to predict\n",
        "        d += pred.shape[0]\n",
        "\n",
        "        # how many correct classifications in the predicted batch\n",
        "        n += (y == pred).int().sum()\n",
        "\n",
        "    # computing the accuracy \n",
        "    accuracy = round((n / d).item(), 2)\n",
        "    \n",
        "    # if _print is set to True, it prints the accuracy\n",
        "    if _print:\n",
        "        print(f'# accuracy dev: {accuracy}\\n')\n",
        "\n",
        "    # returning the accuracy\n",
        "    return accuracy"
      ],
      "execution_count": null,
      "outputs": []
    },
    {
      "cell_type": "markdown",
      "metadata": {
        "id": "I97EjNNHNS9c"
      },
      "source": [
        "## Results"
      ]
    },
    {
      "cell_type": "markdown",
      "metadata": {
        "id": "AWn4GkmMArh3"
      },
      "source": [
        "### Run model"
      ]
    },
    {
      "cell_type": "markdown",
      "metadata": {
        "id": "XQYv-6pA2fOM"
      },
      "source": [
        "The following function is used to instantiate the model with the hyper-parameter in input, instantiate the optimizer and run the model. It returns the list of the accuracies."
      ]
    },
    {
      "cell_type": "code",
      "metadata": {
        "id": "A7Z487AcZ84m"
      },
      "source": [
        "def run_model(hparam: Dict, save: bool, _print: bool):\n",
        "\n",
        "    # instantiating the model\n",
        "    model = PairsSentenceClassifier(n_features=hparam['n_features'], dropout=hparam['dropout'])\n",
        "\n",
        "    # instantiating the optimizer\n",
        "    optimizer = torch.optim.Adam(model.parameters(), lr=hparam['lr'])\n",
        "\n",
        "    # moving the model to device\n",
        "    model = model.to(device)\n",
        "\n",
        "    # getting the accuracies\n",
        "    accuracies = training_loop(model, optimizer, hparam['n_epochs'], save, _print)\n",
        "\n",
        "    # returning the accuracies\n",
        "    return accuracies"
      ],
      "execution_count": null,
      "outputs": []
    },
    {
      "cell_type": "markdown",
      "metadata": {
        "id": "_K8Lpt_yAtS4"
      },
      "source": [
        "### Tests"
      ]
    },
    {
      "cell_type": "markdown",
      "metadata": {
        "id": "PPDk1kEG3Cwf"
      },
      "source": [
        "The following snipped code are used to fix the hyper-parameter of the model and run it, printing the results."
      ]
    },
    {
      "cell_type": "code",
      "metadata": {
        "colab": {
          "base_uri": "https://localhost:8080/"
        },
        "id": "WNu4p-znn_V1",
        "outputId": "52502c7a-6f25-4438-e1cb-ba4d3ff483c2"
      },
      "source": [
        "hparam = {\n",
        "\n",
        "    'sentence2vec': sentence2meanvec,\n",
        "    'min_length': 4,\n",
        "    'batch_size': 32,\n",
        "    'n_features': 600,\n",
        "    'dropout': 0.3,\n",
        "    'lr': 1e-4,\n",
        "    'n_epochs': 50\n",
        "\n",
        "}\n",
        "\n",
        "train_dataset = PairsSentencesDataset(\n",
        "    train_file, \n",
        "    hparam['sentence2vec'],\n",
        "    hparam['min_length'])\n",
        "train_dataloader = torch.utils.data.DataLoader(train_dataset, batch_size=hparam['batch_size'])\n",
        "\n",
        "dev_dataset = PairsSentencesDataset(\n",
        "    dev_file, \n",
        "     hparam['sentence2vec'],\n",
        "     hparam['min_length'])\n",
        "dev_dataloader = torch.utils.data.DataLoader(dev_dataset, batch_size=hparam['batch_size'])\n",
        "\n",
        "accuracies_mean = run_model(hparam, save=True, _print=True)\n",
        "\n",
        "_max = max(accuracies_mean)\n",
        "print('Max accuracy: ', _max, ' - Epoch: ', accuracies_mean.index(_max))"
      ],
      "execution_count": null,
      "outputs": [
        {
          "output_type": "stream",
          "text": [
            "0 0.6976338624954224\n",
            "# accuracy dev: 0.57\n",
            "\n",
            "1 0.6923632621765137\n",
            "# accuracy dev: 0.59\n",
            "\n",
            "2 0.6924158334732056\n",
            "# accuracy dev: 0.59\n",
            "\n",
            "3 0.6833112239837646\n",
            "# accuracy dev: 0.6\n",
            "\n",
            "4 0.6738301515579224\n",
            "# accuracy dev: 0.61\n",
            "\n",
            "5 0.6639887094497681\n",
            "# accuracy dev: 0.62\n",
            "\n",
            "6 0.6585691571235657\n",
            "# accuracy dev: 0.62\n",
            "\n",
            "7 0.6419379115104675\n",
            "# accuracy dev: 0.63\n",
            "\n",
            "8 0.6393308639526367\n",
            "# accuracy dev: 0.61\n",
            "\n",
            "9 0.6165083050727844\n",
            "# accuracy dev: 0.63\n",
            "\n",
            "10 0.6095684170722961\n",
            "# accuracy dev: 0.64\n",
            "\n",
            "11 0.5810688734054565\n",
            "# accuracy dev: 0.64\n",
            "\n",
            "12 0.6016988158226013\n",
            "# accuracy dev: 0.64\n",
            "\n",
            "13 0.5762485265731812\n",
            "# accuracy dev: 0.64\n",
            "\n",
            "14 0.5628396272659302\n",
            "# accuracy dev: 0.65\n",
            "\n",
            "15 0.5480453968048096\n",
            "# accuracy dev: 0.64\n",
            "\n",
            "16 0.5443771481513977\n",
            "# accuracy dev: 0.66\n",
            "\n",
            "17 0.5564809441566467\n",
            "# accuracy dev: 0.65\n",
            "\n",
            "18 0.4874253571033478\n",
            "# accuracy dev: 0.64\n",
            "\n",
            "19 0.5149359107017517\n",
            "# accuracy dev: 0.65\n",
            "\n",
            "20 0.4849649667739868\n",
            "# accuracy dev: 0.64\n",
            "\n",
            "21 0.4923219084739685\n",
            "# accuracy dev: 0.65\n",
            "\n",
            "22 0.47624853253364563\n",
            "# accuracy dev: 0.65\n",
            "\n",
            "23 0.47679799795150757\n",
            "# accuracy dev: 0.66\n",
            "\n",
            "24 0.48818066716194153\n",
            "# accuracy dev: 0.65\n",
            "\n",
            "25 0.4375930428504944\n",
            "# accuracy dev: 0.66\n",
            "\n",
            "26 0.4711465537548065\n",
            "# accuracy dev: 0.66\n",
            "\n",
            "27 0.4695627987384796\n",
            "# accuracy dev: 0.66\n",
            "\n",
            "28 0.4459799826145172\n",
            "# accuracy dev: 0.66\n",
            "\n",
            "29 0.44716235995292664\n",
            "# accuracy dev: 0.67\n",
            "\n",
            "30 0.3852822482585907\n",
            "# accuracy dev: 0.65\n",
            "\n",
            "31 0.39039960503578186\n",
            "# accuracy dev: 0.64\n",
            "\n",
            "32 0.38970884680747986\n",
            "# accuracy dev: 0.66\n",
            "\n",
            "33 0.37737008929252625\n",
            "# accuracy dev: 0.65\n",
            "\n",
            "34 0.35785070061683655\n",
            "# accuracy dev: 0.66\n",
            "\n",
            "35 0.34004735946655273\n",
            "# accuracy dev: 0.65\n",
            "\n",
            "36 0.4294872283935547\n",
            "# accuracy dev: 0.67\n",
            "\n",
            "37 0.36738595366477966\n",
            "# accuracy dev: 0.65\n",
            "\n",
            "38 0.36973515152931213\n",
            "# accuracy dev: 0.66\n",
            "\n",
            "39 0.34762144088745117\n",
            "# accuracy dev: 0.64\n",
            "\n",
            "40 0.34034696221351624\n",
            "# accuracy dev: 0.66\n",
            "\n",
            "41 0.3533168435096741\n",
            "# accuracy dev: 0.66\n",
            "\n",
            "42 0.31409335136413574\n",
            "# accuracy dev: 0.65\n",
            "\n",
            "43 0.33073920011520386\n",
            "# accuracy dev: 0.66\n",
            "\n",
            "44 0.28470197319984436\n",
            "# accuracy dev: 0.65\n",
            "\n",
            "45 0.302432119846344\n",
            "# accuracy dev: 0.66\n",
            "\n",
            "46 0.31836262345314026\n",
            "# accuracy dev: 0.65\n",
            "\n",
            "47 0.3133910894393921\n",
            "# accuracy dev: 0.65\n",
            "\n",
            "48 0.31259801983833313\n",
            "# accuracy dev: 0.66\n",
            "\n",
            "49 0.25954940915107727\n",
            "# accuracy dev: 0.66\n",
            "\n",
            "Max accuracy:  0.67  - Epoch:  29\n"
          ],
          "name": "stdout"
        }
      ]
    },
    {
      "cell_type": "code",
      "metadata": {
        "id": "V50huGosqwE8",
        "colab": {
          "base_uri": "https://localhost:8080/"
        },
        "outputId": "c5f4696b-525e-4af3-eeed-e9acc58c4396"
      },
      "source": [
        "hparam = {\n",
        "\n",
        "    'sentence2vec': sentence2meanvec_unk,\n",
        "    'min_length': 4,\n",
        "    'batch_size': 32,\n",
        "    'n_features': 600,\n",
        "    'dropout': 0.3,\n",
        "    'lr': 1e-4,\n",
        "    'n_epochs': 50\n",
        "\n",
        "}\n",
        "\n",
        "train_dataset = PairsSentencesDataset(\n",
        "    train_file, \n",
        "    hparam['sentence2vec'],\n",
        "    hparam['min_length'])\n",
        "train_dataloader = torch.utils.data.DataLoader(train_dataset, batch_size=hparam['batch_size'])\n",
        "\n",
        "dev_dataset = PairsSentencesDataset(\n",
        "    dev_file, \n",
        "     hparam['sentence2vec'],\n",
        "     hparam['min_length'])\n",
        "dev_dataloader = torch.utils.data.DataLoader(dev_dataset, batch_size=hparam['batch_size'])\n",
        "\n",
        "accuracies_mean_unk = run_model(hparam, save=False, _print=False)\n",
        "\n",
        "_max = max(accuracies_mean_unk)\n",
        "print('Max accuracy: ', _max, ' - Epoch: ', accuracies_mean_unk.index(_max))"
      ],
      "execution_count": null,
      "outputs": [
        {
          "output_type": "stream",
          "text": [
            "Max accuracy:  0.66  - Epoch:  20\n"
          ],
          "name": "stdout"
        }
      ]
    },
    {
      "cell_type": "code",
      "metadata": {
        "id": "nRDY6sGaq0BN",
        "colab": {
          "base_uri": "https://localhost:8080/"
        },
        "outputId": "5e25e948-6713-448b-c55e-c7254a4108dd"
      },
      "source": [
        "hparam = {\n",
        "\n",
        "    'sentence2vec': sentence2sumvec,\n",
        "    'min_length': 4,\n",
        "    'batch_size': 32,\n",
        "    'n_features': 600,\n",
        "    'dropout': 0.3,\n",
        "    'lr': 1e-4,\n",
        "    'n_epochs': 50\n",
        "\n",
        "}\n",
        "\n",
        "train_dataset = PairsSentencesDataset(\n",
        "    train_file, \n",
        "    hparam['sentence2vec'],\n",
        "    hparam['min_length'])\n",
        "train_dataloader = torch.utils.data.DataLoader(train_dataset, batch_size=hparam['batch_size'])\n",
        "\n",
        "dev_dataset = PairsSentencesDataset(\n",
        "    dev_file, \n",
        "     hparam['sentence2vec'],\n",
        "     hparam['min_length'])\n",
        "dev_dataloader = torch.utils.data.DataLoader(dev_dataset, batch_size=hparam['batch_size'])\n",
        "\n",
        "accuracies_sum = run_model(hparam, save=False, _print=False)\n",
        "\n",
        "_max = max(accuracies_sum)\n",
        "print('Max accuracy: ', _max, ' - Epoch: ', accuracies_sum.index(_max))"
      ],
      "execution_count": null,
      "outputs": [
        {
          "output_type": "stream",
          "text": [
            "Max accuracy:  0.66  - Epoch:  11\n"
          ],
          "name": "stdout"
        }
      ]
    },
    {
      "cell_type": "code",
      "metadata": {
        "id": "hh3AsiNLq2sH",
        "colab": {
          "base_uri": "https://localhost:8080/"
        },
        "outputId": "ec8f6b88-c891-4226-e89b-cb5e91676d61"
      },
      "source": [
        "hparam = {\n",
        "\n",
        "    'sentence2vec': sentence2weightedmeanvec,\n",
        "    'min_length': 4,\n",
        "    'batch_size': 32,\n",
        "    'n_features': 600,\n",
        "    'dropout': 0.3,\n",
        "    'lr': 1e-4,\n",
        "    'n_epochs': 50\n",
        "\n",
        "}\n",
        "\n",
        "train_dataset = PairsSentencesDataset(\n",
        "    train_file, \n",
        "    hparam['sentence2vec'],\n",
        "    hparam['min_length'])\n",
        "train_dataloader = torch.utils.data.DataLoader(train_dataset, batch_size=hparam['batch_size'])\n",
        "\n",
        "dev_dataset = PairsSentencesDataset(\n",
        "    dev_file, \n",
        "     hparam['sentence2vec'],\n",
        "     hparam['min_length'])\n",
        "dev_dataloader = torch.utils.data.DataLoader(dev_dataset, batch_size=hparam['batch_size'])\n",
        "\n",
        "accuracies_wsum = run_model(hparam, save=False, _print=False)\n",
        "\n",
        "_max = max(accuracies_wsum)\n",
        "print('Max accuracy: ', _max, ' - Epoch: ', accuracies_wsum.index(_max))"
      ],
      "execution_count": null,
      "outputs": [
        {
          "output_type": "stream",
          "text": [
            "Max accuracy:  0.6  - Epoch:  43\n"
          ],
          "name": "stdout"
        }
      ]
    },
    {
      "cell_type": "markdown",
      "metadata": {
        "id": "Xh8KNCTLAlms"
      },
      "source": [
        "### Plot"
      ]
    },
    {
      "cell_type": "markdown",
      "metadata": {
        "id": "5HpGStif3StR"
      },
      "source": [
        "The following code is used to plot the results of the model with the tested hyper-parameter."
      ]
    },
    {
      "cell_type": "code",
      "metadata": {
        "colab": {
          "base_uri": "https://localhost:8080/",
          "height": 279
        },
        "id": "qu-zOU0Nq9bF",
        "outputId": "057d98a9-2c11-4520-cdf0-343afafcc5d5"
      },
      "source": [
        "overall_accuracies_first = [accuracies_mean, accuracies_mean_unk, accuracies_sum, accuracies_wsum]\n",
        "\n",
        "labels_first = ['mean', 'mean_unk', 'sum', 'weighted_sum']\n",
        "\n",
        "for accuracies, label in zip(overall_accuracies_first, labels_first):\n",
        "    plt.plot(accuracies, label=label)\n",
        "\n",
        "plt.xlabel('epoch')\n",
        "plt.ylabel('accuracy')\n",
        "plt.legend()\n",
        "plt.show()"
      ],
      "execution_count": null,
      "outputs": [
        {
          "output_type": "display_data",
          "data": {
            "image/png": "[encoded data removed]",
            "text/plain": [
              "<Figure size 432x288 with 1 Axes>"
            ]
          },
          "metadata": {
            "tags": [],
            "needs_background": "light"
          }
        }
      ]
    },
    {
      "cell_type": "markdown",
      "metadata": {
        "id": "4Gz1QVRN0a8q"
      },
      "source": [
        "# Second Approach"
      ]
    },
    {
      "cell_type": "markdown",
      "metadata": {
        "id": "AldPM3Gx3bQW"
      },
      "source": [
        "In this section we are defining the second approach models."
      ]
    },
    {
      "cell_type": "markdown",
      "metadata": {
        "id": "yw36aYqxNgas"
      },
      "source": [
        "## Word vectors"
      ]
    },
    {
      "cell_type": "markdown",
      "metadata": {
        "id": "Znl6nOvZ3vnz"
      },
      "source": [
        "We are defining the vectors of words in order to implement the pytorch embedding layer."
      ]
    },
    {
      "cell_type": "code",
      "metadata": {
        "id": "PIMivrBtgvV_"
      },
      "source": [
        "# dictionary that associate an index to each word\n",
        "word2idx = {}\n",
        "\n",
        "# list of vectors in which vector in position i corresponds to word with index i in word2idx\n",
        "word_vectors = []\n",
        "\n",
        "# pad token, index = 0\n",
        "word_vectors.append(torch.zeros(300, device=device))\n",
        "\n",
        "# unk token, index = 1\n",
        "word_vectors.append(torch.rand(300, device=device))\n",
        "\n",
        "for word, vector in word2vec.items():\n",
        "  word2idx[word] = len(word_vectors)\n",
        "  word_vectors.append(vector)\n",
        "\n",
        "word2idx = defaultdict(lambda: 1, word2idx)\n",
        "word_vectors = torch.stack(word_vectors)\n",
        "word_vectors = word_vectors.to(device)"
      ],
      "execution_count": null,
      "outputs": []
    },
    {
      "cell_type": "markdown",
      "metadata": {
        "id": "JIk7R_3HNjI8"
      },
      "source": [
        "## sentence2indices"
      ]
    },
    {
      "cell_type": "markdown",
      "metadata": {
        "id": "9HohW9_C4bLS"
      },
      "source": [
        "The following function returns the vector representation fo the input sentence, in which each word is represented by its index in word2idx."
      ]
    },
    {
      "cell_type": "code",
      "metadata": {
        "id": "1ZMBqLWghISs"
      },
      "source": [
        "def sentence2indices(sentence: str) -> torch.Tensor:\n",
        "\n",
        "    return torch.tensor([word2idx[word] for word in sentence.split(' ')],\n",
        "                            dtype=torch.long,\n",
        "                            device=device)"
      ],
      "execution_count": null,
      "outputs": []
    },
    {
      "cell_type": "markdown",
      "metadata": {
        "id": "SQUZeCOSNlbw"
      },
      "source": [
        "## Dataset"
      ]
    },
    {
      "cell_type": "markdown",
      "metadata": {
        "id": "Wzwtp2jm5Ek4"
      },
      "source": [
        "We are defining the dataset. As soon as the sentences are read from the datasate, they are pre-processed and trasformed in their indices representation.\n",
        "Each instance of the following dataset is composed by the indices representation of the two sentences, the position of the target words in the two sentences and the corresponding ground truth."
      ]
    },
    {
      "cell_type": "code",
      "metadata": {
        "id": "sz7x1R-FpLxI"
      },
      "source": [
        "class PairsSentencesRNNDataset(torch.utils.data.Dataset):\n",
        "\n",
        "    def __init__(self, dataset_path: str, min_length: int):\n",
        "        self.data = []\n",
        "        self.__init_structures(dataset_path, min_length)\n",
        "\n",
        "    def __init_structures(self, dataset_path: str, min_length: int) -> None:\n",
        "\n",
        "        with open(dataset_path) as f:\n",
        "\n",
        "            json_list = list(f)\n",
        "\n",
        "            for json_str in json_list:\n",
        "\n",
        "                line = json.loads(json_str)\n",
        "\n",
        "                # retriving information from the provided dataset        \n",
        "                label = np.float32(0 if line['label'] == 'False' else 1)\n",
        "                sentence1 = line['sentence1'] \n",
        "                sentence2 = line['sentence2']\n",
        "                start1, end1 = int(line['start1']), int(line['end1'])\n",
        "                start2, end2 = int(line['start2']), int(line['end2'])\n",
        "\n",
        "                # pre-processing the two sentences\n",
        "                sentence1, n_words1, index_target_word1 = preprocess_sentence(sentence1, start1)\n",
        "                sentence2, n_words2, index_target_word2 = preprocess_sentence(sentence2, start2)\n",
        "                \n",
        "                # if some problem occurs during the identification of the target word, I ignore that instance\n",
        "                if index_target_word1 == None or index_target_word2 == None:\n",
        "                    continue\n",
        "\n",
        "                # if one of the pre-processed sentences contains few words, I ignore that instance\n",
        "                if n_words1 < min_length or n_words2 < min_length:\n",
        "                    continue\n",
        "                \n",
        "                # computing the indices representation of the sentences\n",
        "                sentence_indices1 = sentence2indices(sentence1)\n",
        "                sentence_indices2 = sentence2indices(sentence2)\n",
        "\n",
        "                self.data.append(\n",
        "                    (\n",
        "                        (sentence_indices1, sentence_indices2),\n",
        "                        (index_target_word1, index_target_word2),\n",
        "                        label\n",
        "                     )\n",
        "                    )\n",
        "\n",
        "    def __len__(self) -> int:\n",
        "        return len(self.data)\n",
        "\n",
        "    def __getitem__(self, idx: int) -> Tuple[torch.Tensor, torch.Tensor, float]:\n",
        "        return self.data[idx]"
      ],
      "execution_count": null,
      "outputs": []
    },
    {
      "cell_type": "markdown",
      "metadata": {
        "id": "aGiliR24NnZi"
      },
      "source": [
        "## Collate function"
      ]
    },
    {
      "cell_type": "markdown",
      "metadata": {
        "id": "ttyrAcfN6hxJ"
      },
      "source": [
        "The following is the collate function called when we crate the dataloader."
      ]
    },
    {
      "cell_type": "code",
      "metadata": {
        "id": "zWhVeMUYhTzu"
      },
      "source": [
        "def rnn_collate_fn(\n",
        "    data_elements: List[Tuple[Tuple[torch.Tensor, torch.Tensor], Tuple[int, int], float]]\n",
        ") -> Tuple[torch.Tensor, torch.Tensor, torch.Tensor, torch.Tensor]:\n",
        "    \n",
        "    X1 = [de[0][0] for de in data_elements]  # list of index tensors of sentences 1\n",
        "    X2 = [de[0][1] for de in data_elements]  # list of index tensors of sentences 2\n",
        "    X = X1 + X2 # list of index tensors of all the sentences\n",
        "  \n",
        "    # to implement the many-to-one strategy\n",
        "    X1_lengths = torch.tensor([x1.size(0) for x1 in X1], dtype=torch.long, device=device)\n",
        "    X2_lengths = torch.tensor([x2.size(0) for x2 in X2], dtype=torch.long, device=device)\n",
        "    \n",
        "    # the following tensor is composed by two stacked tensor, \n",
        "    # one contains the lengths of the first sentences,\n",
        "    # the other contains the lengths of the second sentences\n",
        "    X_lengths = torch.stack([X1_lengths, X2_lengths])\n",
        "    \n",
        "\n",
        "    # padding the sentences\n",
        "    X = torch.nn.utils.rnn.pad_sequence(X, batch_first=True, padding_value=0)\n",
        "    X1 = X[:len(X)//2] # retrieving the first sentences\n",
        "    X2 = X[len(X)//2:] # retrieving the second sentences\n",
        "    \n",
        "    # the following tensor is composed by two stacked tensor,\n",
        "    # one contains the padded first sentences,\n",
        "    # the other contains the padded second sentences\n",
        "    X = torch.stack([X1,X2])\n",
        "    \n",
        "\n",
        "    indices_target = [de[1] for de in data_elements] #(ind_target1, ind_target2)\n",
        "\n",
        "    # the following tensor is composed by two stacked tensor,\n",
        "    # one contains the position of the target word of the first sentences,\n",
        "    # the other contains the position of the target word of the second sentences\n",
        "    indices_target = torch.tensor(indices_target, device=device).t()\n",
        "\n",
        "    # tensor with the ground truth\n",
        "    y = [de[2] for de in data_elements]\n",
        "    y = torch.tensor(y, device=device)\n",
        "    \n",
        "    return (X, X_lengths, indices_target, y)"
      ],
      "execution_count": null,
      "outputs": []
    },
    {
      "cell_type": "code",
      "metadata": {
        "id": "W7_eXfIxTif_",
        "colab": {
          "base_uri": "https://localhost:8080/"
        },
        "outputId": "f0263d27-efa0-4050-b6c2-47420c0c53fb"
      },
      "source": [
        "sentence11 = 'the,# Table italia'\n",
        "sentence12 = 'of. because? yes bolivia day'\n",
        "\n",
        "sentence21 = 'Here you can find activities to practise your reading skills.'\n",
        "sentence22 = 'Take our'\n",
        "\n",
        "sentence11, n_words11,  index_target_word11 = preprocess_sentence(sentence11, 12)\n",
        "sentence12, n_words12, index_target_word12 = preprocess_sentence(sentence12, 13)\n",
        "sentence21, n_words21, index_target_word21 = preprocess_sentence(sentence21, 46)\n",
        "sentence22, n_words22, index_target_word22 = preprocess_sentence(sentence22, 0)\n",
        "\n",
        "\n",
        "indices11 = sentence2indices(sentence11)\n",
        "indices12 = sentence2indices(sentence12)\n",
        "\n",
        "indices21 = sentence2indices(sentence21)\n",
        "indices22 = sentence2indices(sentence22)\n",
        "\n",
        "a = [\n",
        "     ((indices11, indecis12), (index_target_word11, index_target_word12),  1),\n",
        "     ((indices21, indecis22), (index_target_word21, index_target_word22),  0)\n",
        "]\n",
        "\n",
        "X, X_lengths, indices_target, y = rnn_collate_fn(a)\n",
        "\n",
        "print(X)\n",
        "print('-'*100)\n",
        "print(X_lengths)\n",
        "print('-'*100)\n",
        "print(indices_target)\n",
        "print('-'*100)\n",
        "print(y)\n",
        "print('-'*100)"
      ],
      "execution_count": null,
      "outputs": [
        {
          "output_type": "stream",
          "text": [
            "tensor([[[ 1804, 14816,     0,     0,     0],\n",
            "         [  599,  1221, 29062,  2188,  3145]],\n",
            "\n",
            "        [[ 2775,  6692,   125,     0,     0],\n",
            "         [  193,     0,     0,     0,     0]]], device='cuda:0')\n",
            "----------------------------------------------------------------------------------------------------\n",
            "tensor([[2, 5],\n",
            "        [3, 1]], device='cuda:0')\n",
            "----------------------------------------------------------------------------------------------------\n",
            "tensor([[2, 4],\n",
            "        [1, 1]], device='cuda:0')\n",
            "----------------------------------------------------------------------------------------------------\n",
            "tensor([1, 0], device='cuda:0')\n",
            "----------------------------------------------------------------------------------------------------\n"
          ],
          "name": "stdout"
        }
      ]
    },
    {
      "cell_type": "markdown",
      "metadata": {
        "id": "xE58rXaWNqCC"
      },
      "source": [
        "## Classifier"
      ]
    },
    {
      "cell_type": "markdown",
      "metadata": {
        "id": "yGYR-vp-8ic6"
      },
      "source": [
        "We are defining the classifier."
      ]
    },
    {
      "cell_type": "code",
      "metadata": {
        "id": "BWjfLs0-s15O"
      },
      "source": [
        "class PairsSentenceRNNClassifier(torch.nn.Module):\n",
        "\n",
        "    # defining the model architecture\n",
        "    def __init__(self, \n",
        "                 word_vectors,\n",
        "                 hidden_size: int,\n",
        "                 num_layers: int,\n",
        "                 bias: bool,\n",
        "                 bidirectional: bool,\n",
        "                 summary: str,\n",
        "                 dropout: float):\n",
        "        \n",
        "        super().__init__()\n",
        "\n",
        "        # embedding layer\n",
        "        self.embedding = torch.nn.Embedding.from_pretrained(word_vectors)\n",
        "\n",
        "        # hyper-parameter of the LSTM\n",
        "        self.hidden_size = hidden_size\n",
        "        self.num_directions = 2 if bidirectional is True else 1\n",
        "        self.num_layers = num_layers\n",
        "\n",
        "        self.summary = summary\n",
        "        \n",
        "        # LSTM\n",
        "        self.lstm = torch.nn.LSTM(input_size=word_vectors.size(1), \n",
        "                                  hidden_size=hidden_size, \n",
        "                                  num_layers=num_layers,\n",
        "                                  bias=bias,\n",
        "                                  batch_first=True,\n",
        "                                  bidirectional=bidirectional)\n",
        "        \n",
        "        # classifier, linear layer\n",
        "        self.lin1 = torch.nn.Linear(self.num_directions*hidden_size*2, hidden_size)\n",
        "        self.lin2 = torch.nn.Linear(hidden_size, 1)\n",
        "\n",
        "        # dropout layer\n",
        "        self.dropout = torch.nn.Dropout(p=dropout)\n",
        "\n",
        "        # loss\n",
        "        self.loss_fn = torch.nn.BCELoss()\n",
        "\n",
        "    # this function returns the output of the LSTM\n",
        "    def get_summary_lstm(self,\n",
        "                         X: torch.Tensor,\n",
        "                         X_indices: torch.Tensor) -> torch.Tensor:\n",
        "\n",
        "        # X_indices param define which output of the LSTM return\n",
        "\n",
        "        # tensors of zeros to initialize the LSTM\n",
        "        h_0 = torch.zeros(self.num_layers*self.num_directions, X.size(0), self.hidden_size, device=device)\n",
        "        c_0 = torch.zeros(self.num_layers*self.num_directions, X.size(0), self.hidden_size, device=device)\n",
        "\n",
        "        # computing the embedding\n",
        "        embedded = self.embedding(X)\n",
        "\n",
        "        # LSTM output\n",
        "        out, _ = self.lstm(embedded, (h_0, c_0))\n",
        "\n",
        "        batch_size, seq_len, _ = out.shape\n",
        "\n",
        "        # retrieving the output of the LSTM corresponding to the desired token\n",
        "\n",
        "        summary_word_relative_indices = X_indices - 1\n",
        "\n",
        "        # sequences offsets in the batch\n",
        "        sequences_offsets = torch.arange(batch_size, device=device) * seq_len\n",
        "\n",
        "        # indices corrsponding to the desired token in the batch\n",
        "        summary_vectors_indices = sequences_offsets + summary_word_relative_indices\n",
        "\n",
        "        if self.num_directions == 1:\n",
        "\n",
        "            flattened_out = out.reshape(-1, self.hidden_size)\n",
        "            summary_vector = flattened_out[summary_vectors_indices]\n",
        "            summary_vector.squeeze()\n",
        "\n",
        "        else:\n",
        "\n",
        "            # separatin forward and backward\n",
        "\n",
        "            out = out.view(batch_size, seq_len, self.num_directions, self.hidden_size)\n",
        "            forward = out[:, :, 0, :]\n",
        "            backward = out[:, :, 1, :]\n",
        "\n",
        "            # forward summary\n",
        "            flattened_forward = forward.reshape(-1, self.hidden_size)\n",
        "            summary_vector_forward = flattened_forward[summary_vectors_indices]\n",
        "            summary_vector_forward = summary_vector_forward.squeeze()\n",
        "            \n",
        "            # backward summary\n",
        "            flattened_backward = forward.reshape(-1, self.hidden_size)\n",
        "            summary_vector_backward = flattened_backward[summary_vectors_indices if self.summary == 'target_word' else sequences_offsets]\n",
        "            summary_vector_backward = summary_vector_backward.squeeze()\n",
        "\n",
        "            # concatenating forward and backward summary    \n",
        "            summary_vector = torch.cat([summary_vector_forward, summary_vector_backward], dim=1)\n",
        "\n",
        "        # returning summary\n",
        "        return summary_vector\n",
        "\n",
        "    # defining the forward pass of the model\n",
        "    def forward(self, \n",
        "                X: Tuple[torch.Tensor, torch.Tensor],\n",
        "                X_length: torch.Tensor,\n",
        "                X_indices_target: torch.Tensor,\n",
        "                y: Optional[torch.Tensor] = None) -> Dict[str, torch.Tensor]:\n",
        "\n",
        "        # defining which summary consider\n",
        "        if self.summary == 'target_word':\n",
        "            # target word summary\n",
        "            X_indices = X_indices_target \n",
        "        else:\n",
        "            # last summary for the forward, first summary for the backward\n",
        "            X_indices = X_length\n",
        "\n",
        "        # computing the summary for the first and second sentences independently from each other\n",
        "        summary_vector1 = self.get_summary_lstm(X[0], X_indices[0])\n",
        "        summary_vector2 = self.get_summary_lstm(X[1], X_indices[1])\n",
        "\n",
        "        # concatenating the two summary\n",
        "        summary_vectors = torch.cat([summary_vector1, summary_vector2], dim=1)\n",
        "\n",
        "        # forward 1st layer\n",
        "        out = self.lin1(summary_vectors)\n",
        "        out = torch.relu(out)\n",
        "\n",
        "        #dropout regularization\n",
        "        out = self.dropout(out)\n",
        "        \n",
        "        # forward 2nd layer\n",
        "        out = self.lin2(out)\n",
        "        \n",
        "        out = out.squeeze(1)\n",
        "        out = torch.sigmoid(out)\n",
        "        \n",
        "        # storing result\n",
        "        result = {'pred': out}\n",
        "\n",
        "        # computing and storing loss\n",
        "        if y is not None:\n",
        "          loss = self.loss(out, y)\n",
        "          result['loss'] = loss \n",
        "\n",
        "        # returning result\n",
        "        return result\n",
        "\n",
        "    def loss(self, pred, y):\n",
        "        return self.loss_fn(pred, y)"
      ],
      "execution_count": null,
      "outputs": []
    },
    {
      "cell_type": "markdown",
      "metadata": {
        "id": "K9y4ZbPKNvMe"
      },
      "source": [
        "## Training"
      ]
    },
    {
      "cell_type": "markdown",
      "metadata": {
        "id": "lLY7Wt3n_LjM"
      },
      "source": [
        "We are defining the training loop to train the model. It returns a list containing the accuracies of the model tested on the dev dataset for each epoch."
      ]
    },
    {
      "cell_type": "code",
      "metadata": {
        "id": "UdTit3a7D5PA"
      },
      "source": [
        "def training_loop(model: nn.Module, \n",
        "                  optimizer: torch.optim.Optimizer,\n",
        "                  epochs: int = 50,\n",
        "                  save: bool = False,\n",
        "                  _print: bool = False) -> List[float]::\n",
        "    \n",
        "    # accuracies list\n",
        "    accuracies = []\n",
        "\n",
        "    for epoch in range(epochs):\n",
        "\n",
        "        # for each batch of the training set\n",
        "        for X, X_lenghts, X_indices_target, y in train_dataloader:\n",
        "            \n",
        "            # set the gradients to zero before starting backpropragation step\n",
        "            optimizer.zero_grad()\n",
        "            \n",
        "            # compute the output of the model\n",
        "            batch_out = model(X, X_lenghts, X_indices_target, y)\n",
        "\n",
        "            # retrieve the loss \n",
        "            loss = batch_out['loss']\n",
        "\n",
        "            # compute the gradient of the loss\n",
        "            loss.backward()\n",
        "\n",
        "            # update parameters of the model\n",
        "            optimizer.step()\n",
        "\n",
        "        # if _print is set to True, it prints the current loss\n",
        "        if _print:\n",
        "            print(epoch, loss.item())\n",
        "\n",
        "        # testing the model\n",
        "        accuracy = test(model, _print)\n",
        "\n",
        "        accuracies.append(accuracy)\n",
        "\n",
        "        # if save is set to True, it saves the current model\n",
        "        if save:\n",
        "            torch.save({\n",
        "                    'model_state_dict': model.state_dict(),\n",
        "                    'optimizer_state_dict': optimizer.state_dict(),\n",
        "                    }, ROOT_FOLDER + 'second/2_'+str(epoch)+'.pt')\n",
        "\n",
        "    # returning the accuracies\n",
        "    return accuracies"
      ],
      "execution_count": null,
      "outputs": []
    },
    {
      "cell_type": "markdown",
      "metadata": {
        "id": "dXOLkqQ9NxNm"
      },
      "source": [
        "## Test"
      ]
    },
    {
      "cell_type": "code",
      "metadata": {
        "id": "xV85HTUx5f-2"
      },
      "source": [
        "def test(model: nn.Module, _print: bool = False):    \n",
        "\n",
        "    n = 0\n",
        "    d = 0\n",
        "\n",
        "    # for each batch of the test set\n",
        "    for X, X_lenghts, X_indices_target, y in dev_dataloader:\n",
        "        \n",
        "        # set the gradients to zero before starting backpropragation step\n",
        "        with torch.no_grad():\n",
        "            \n",
        "            # predict the batch\n",
        "            batch_out = model(X, X_lenghts, X_indices_target)\n",
        "            \n",
        "            # retrieve the predictions\n",
        "            pred = batch_out['pred']\n",
        "\n",
        "        # round the sigmoid output to obtain 0/1 values\n",
        "        pred = torch.round(pred)\n",
        "        \n",
        "        # how many predictions, i.e. number of batch items to predict\n",
        "        d += pred.shape[0]\n",
        "\n",
        "        # how many correct classifications in the predicted batch\n",
        "        n += (y == pred).int().sum()\n",
        "\n",
        "    # computing the accuracy \n",
        "    accuracy = round((n / d).item(), 2)\n",
        "\n",
        "    # if _print is set to True, it prints the accuracy\n",
        "    if _print:\n",
        "        print(f'# accuracy dev: {accuracy}\\n')\n",
        "\n",
        "    # returning the accuracy\n",
        "    return accuracy"
      ],
      "execution_count": null,
      "outputs": []
    },
    {
      "cell_type": "markdown",
      "metadata": {
        "id": "8Sg3V8mMNy6i"
      },
      "source": [
        "## Results"
      ]
    },
    {
      "cell_type": "markdown",
      "metadata": {
        "id": "RMU_TSJoAxqv"
      },
      "source": [
        "### Run model"
      ]
    },
    {
      "cell_type": "markdown",
      "metadata": {
        "id": "w1aLh1tdAKp0"
      },
      "source": [
        "The following function is used to instantiate the model with the hyper-parameter in input, instantiate the optimizer and run the model. It returns the list of the accuracies."
      ]
    },
    {
      "cell_type": "code",
      "metadata": {
        "id": "p1zzFwe4cSg0"
      },
      "source": [
        "def run_model_lstm(hparam: Dict, \n",
        "                   save: bool = False, \n",
        "                   _print: bool = False):\n",
        "\n",
        "    # instantiating the model\n",
        "    model = PairsSentenceRNNClassifier(word_vectors=word_vectors,\n",
        "                                       hidden_size=hparam['hidden_size'],\n",
        "                                       num_layers=hparam['num_layers'],\n",
        "                                       bias=hparam['bias'],\n",
        "                                       bidirectional=hparam['bidirectional'],\n",
        "                                       summary=hparam['summary'],\n",
        "                                       dropout=hparam['dropout'])\n",
        "    \n",
        "    # instantiating the optimizer\n",
        "    optimizer = torch.optim.Adam(model.parameters(), lr = 1e-4)\n",
        "\n",
        "    # moving the model to device\n",
        "    model = model.to(device)\n",
        "\n",
        "    # getting the accuracies\n",
        "    accuracies = training_loop(model, optimizer, hparam['n_epochs'], save, _print)\n",
        "    \n",
        "    # returning the accuracies\n",
        "    return accuracies"
      ],
      "execution_count": null,
      "outputs": []
    },
    {
      "cell_type": "markdown",
      "metadata": {
        "id": "vBo9norRAzVa"
      },
      "source": [
        "###Tests"
      ]
    },
    {
      "cell_type": "markdown",
      "metadata": {
        "id": "_-W_JpWIAZfP"
      },
      "source": [
        "The following snipped code are used to fix the hyper-parameter of the model and run it, printing the results."
      ]
    },
    {
      "cell_type": "code",
      "metadata": {
        "id": "fQcpF09w7n8C",
        "colab": {
          "base_uri": "https://localhost:8080/"
        },
        "outputId": "2d649318-378c-46ac-b401-cdf2bc704044"
      },
      "source": [
        "hparam = {\n",
        "\n",
        "    'min_length': 4,\n",
        "    'batch_size': 32,\n",
        "    'rnn_collate_fn': rnn_collate_fn,\n",
        "    'hidden_size': 512,\n",
        "    'num_layers': 1,\n",
        "    'bias': True,\n",
        "    'bidirectional': False,\n",
        "    'summary': 'last_word',\n",
        "    'dropout': 0.2,\n",
        "    'lr': 1e-4,\n",
        "    'n_epochs': 10\n",
        "\n",
        "}\n",
        "\n",
        "train_dataset = PairsSentencesRNNDataset(\n",
        "    train_file, \n",
        "    min_length = hparam['min_length'])\n",
        "train_dataloader = torch.utils.data.DataLoader(dataset=train_dataset,\n",
        "                                               batch_size=hparam['batch_size'],\n",
        "                                               collate_fn=hparam['rnn_collate_fn'])\n",
        "\n",
        "dev_dataset = PairsSentencesRNNDataset(\n",
        "    dev_file, \n",
        "    min_length = hparam['min_length'])\n",
        "dev_dataloader = torch.utils.data.DataLoader(dataset=dev_dataset,\n",
        "                                             batch_size=hparam['batch_size'],\n",
        "                                             collate_fn=hparam['rnn_collate_fn'])\n",
        "\n",
        "accuracies_monodir_last = run_model_lstm(hparam, save=False, _print=False)\n",
        "\n",
        "_max = max(accuracies_monodir_last)\n",
        "print('Max accuracy: ', _max, ' - Epoch: ', accuracies_monodir_last.index(_max))"
      ],
      "execution_count": null,
      "outputs": [
        {
          "output_type": "stream",
          "text": [
            "Max accuracy:  0.64  - Epoch:  3\n"
          ],
          "name": "stdout"
        }
      ]
    },
    {
      "cell_type": "code",
      "metadata": {
        "colab": {
          "base_uri": "https://localhost:8080/"
        },
        "id": "-OPFPadqxIxW",
        "outputId": "4bf95725-b8f9-4ce0-9e51-dcc12c4d4cf4"
      },
      "source": [
        "hparam = {\n",
        "\n",
        "    'min_length': 4,\n",
        "    'batch_size': 32,\n",
        "    'rnn_collate_fn': rnn_collate_fn,\n",
        "    'hidden_size': 512,\n",
        "    'num_layers': 1,\n",
        "    'bias': False,\n",
        "    'bidirectional': True,\n",
        "    'summary': 'last_word',\n",
        "    'dropout': 0.2,\n",
        "    'lr': 1e-4,\n",
        "    'n_epochs': 10\n",
        "\n",
        "}\n",
        "\n",
        "train_dataset = PairsSentencesRNNDataset(\n",
        "    train_file, \n",
        "    min_length = hparam['min_length'])\n",
        "train_dataloader = torch.utils.data.DataLoader(dataset=train_dataset,\n",
        "                                               batch_size=hparam['batch_size'],\n",
        "                                               collate_fn=hparam['rnn_collate_fn'])\n",
        "\n",
        "dev_dataset = PairsSentencesRNNDataset(\n",
        "    dev_file, \n",
        "    min_length = hparam['min_length'])\n",
        "dev_dataloader = torch.utils.data.DataLoader(dataset=dev_dataset,\n",
        "                                             batch_size=hparam['batch_size'],\n",
        "                                             collate_fn=hparam['rnn_collate_fn'])\n",
        "\n",
        "accuracies_bidir_last = run_model_lstm(hparam, save=False, _print=False)\n",
        "\n",
        "_max = max(accuracies_bidir_last)\n",
        "print('Max accuracy: ', _max, ' - Epoch: ', accuracies_bidir_last.index(_max))"
      ],
      "execution_count": null,
      "outputs": [
        {
          "output_type": "stream",
          "text": [
            "Max accuracy:  0.64  - Epoch:  2\n"
          ],
          "name": "stdout"
        }
      ]
    },
    {
      "cell_type": "code",
      "metadata": {
        "id": "aKkVKnjpxi2x",
        "colab": {
          "base_uri": "https://localhost:8080/"
        },
        "outputId": "85db463d-6508-4d14-b3e4-60fd2755492a"
      },
      "source": [
        "hparam = {\n",
        "\n",
        "    'min_length': 4,\n",
        "    'batch_size': 32,\n",
        "    'rnn_collate_fn': rnn_collate_fn,\n",
        "    'hidden_size': 512,\n",
        "    'num_layers': 1,\n",
        "    'bias': False,\n",
        "    'bidirectional': True,\n",
        "    'summary': 'target_word',\n",
        "    'dropout': 0.2,\n",
        "    'lr': 1e-4,\n",
        "    'n_epochs': 10\n",
        "\n",
        "}\n",
        "\n",
        "train_dataset = PairsSentencesRNNDataset(\n",
        "    train_file, \n",
        "    min_length = hparam['min_length'])\n",
        "train_dataloader = torch.utils.data.DataLoader(dataset=train_dataset,\n",
        "                                               batch_size=hparam['batch_size'],\n",
        "                                               collate_fn=hparam['rnn_collate_fn'])\n",
        "\n",
        "dev_dataset = PairsSentencesRNNDataset(\n",
        "    dev_file, \n",
        "    min_length = hparam['min_length'])\n",
        "dev_dataloader = torch.utils.data.DataLoader(dataset=dev_dataset,\n",
        "                                             batch_size=hparam['batch_size'],\n",
        "                                             collate_fn=hparam['rnn_collate_fn'])\n",
        "\n",
        "accuracies_bidir_target = run_model_lstm(hparam, save=False, _print=False)\n",
        "\n",
        "_max = max(accuracies_bidir_target)\n",
        "print('Max accuracy: ', _max, ' - Epoch: ', accuracies_bidir_target.index(_max))"
      ],
      "execution_count": null,
      "outputs": [
        {
          "output_type": "stream",
          "text": [
            "Max accuracy:  0.55  - Epoch:  0\n"
          ],
          "name": "stdout"
        }
      ]
    },
    {
      "cell_type": "markdown",
      "metadata": {
        "id": "rjUy14SqAfTJ"
      },
      "source": [
        "### Plot"
      ]
    },
    {
      "cell_type": "markdown",
      "metadata": {
        "id": "Lr7oBcrwAd9X"
      },
      "source": [
        "The following code is used to plot the results of the model with the tested hyper-parameter."
      ]
    },
    {
      "cell_type": "code",
      "metadata": {
        "id": "AO6H_cOmxmkh",
        "colab": {
          "base_uri": "https://localhost:8080/",
          "height": 279
        },
        "outputId": "57fdbbac-59a8-4466-e56e-345e50238dfe"
      },
      "source": [
        "overall_accuracies_second = [accuracies_monodir_last, accuracies_bidir_last, accuracies_bidir_target]\n",
        "\n",
        "labels_second = ['ndir=1, summary=last', 'ndir=2, summary=last', 'ndir=2, summary=token']\n",
        "\n",
        "for accuracies, label in zip(overall_accuracies_second, labels_second):\n",
        "    plt.plot(accuracies, label=label)\n",
        "\n",
        "plt.xlabel('epoch')\n",
        "plt.ylabel('accuracy')\n",
        "plt.legend()\n",
        "plt.show()"
      ],
      "execution_count": null,
      "outputs": [
        {
          "output_type": "display_data",
          "data": {
            "image/png": "[encoded data removed]",
            "text/plain": [
              "<Figure size 432x288 with 1 Axes>"
            ]
          },
          "metadata": {
            "tags": [],
            "needs_background": "light"
          }
        }
      ]
    }
  ]
}